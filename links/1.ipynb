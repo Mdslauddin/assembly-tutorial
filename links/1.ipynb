{
 "cells": [
  {
   "attachments": {},
   "cell_type": "markdown",
   "metadata": {},
   "source": [
    "**search on google assembly mnemonics list**"
   ]
  },
  {
   "attachments": {},
   "cell_type": "markdown",
   "metadata": {},
   "source": [
    "### list of links\n",
    "\n",
    "- https://bixoft.nl/english/opl_bbbm.htm\n",
    "- http://www.mathemainzel.info/files/x86asmref.html\n",
    "- https://www.ibm.com/docs/en/zos/2.1.0?topic=statements-branching-extended-mnemonic-codes\n",
    "- http://www.avr-asm-tutorial.net/avr_en/micro_beginner/instructions.html"
   ]
  }
 ],
 "metadata": {
  "language_info": {
   "name": "python"
  },
  "orig_nbformat": 4
 },
 "nbformat": 4,
 "nbformat_minor": 2
}
